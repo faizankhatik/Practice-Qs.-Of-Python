{
 "cells": [
  {
   "cell_type": "code",
   "execution_count": 3,
   "id": "204e3923-12af-4a58-8bf2-56501507717e",
   "metadata": {},
   "outputs": [
    {
     "name": "stdout",
     "output_type": "stream",
     "text": [
      "sum : 230\n",
      "avg : 38.333333333333336\n"
     ]
    }
   ],
   "source": [
    "# 1 *Sum and Average:\n",
    "#   - Write a program that takes a list of numbers as input and calculates their sum and average.\n",
    "\n",
    "lst_1 = [10,40,50,80,20,30]\n",
    "for value in lst_1:\n",
    "    _sum = sum(lst_1)\n",
    "    avg = _sum / len(lst_1)\n",
    "print(\"sum :\",_sum)\n",
    "print(\"avg :\",avg)\n"
   ]
  },
  {
   "cell_type": "code",
   "execution_count": 4,
   "id": "4b0f2dd4-7cb3-45f9-9ca2-6f5d269c2d38",
   "metadata": {},
   "outputs": [
    {
     "name": "stdout",
     "output_type": "stream",
     "text": [
      "Maximum : 90\n",
      "Minimum : 10\n"
     ]
    }
   ],
   "source": [
    "# 2. *Find Maximum and Minimum:*\n",
    "#    - Create a program that prompts the user for a list of numbers and then finds the maximum and minimum values in the list.\n",
    "\n",
    "list_1 = [30,50,60,10,30,50,70,90]\n",
    "maximum = max(list_1)\n",
    "minimum = min(list_1)\n",
    "print(\"Maximum :\",maximum)\n",
    "print(\"Minimum :\",minimum)"
   ]
  },
  {
   "cell_type": "code",
   "execution_count": null,
   "id": "e9832737-f31a-4f75-8415-ff688af3fb49",
   "metadata": {},
   "outputs": [],
   "source": [
    "# 3. *Element Frequency:*\n",
    "#    - Write a program that takes a list of words as input and counts the frequency of each word in a dictionary."
   ]
  },
  {
   "cell_type": "code",
   "execution_count": 14,
   "id": "e151ca72-ecd6-4c1c-8e51-a3c5f8f2207d",
   "metadata": {},
   "outputs": [
    {
     "name": "stdout",
     "output_type": "stream",
     "text": [
      "[20, 60, 40, 100, 70, 50, 30, 10]\n"
     ]
    }
   ],
   "source": [
    "# 4. *List Reversal:*\n",
    "#    - Implement a program that reverses the elements of a given list and prints the reversed list.\n",
    "\n",
    "list_2 = [10,30,50,70,100,40,60,20]\n",
    "reverse_ = list_2[::-1]\n",
    "print(reverse_)"
   ]
  },
  {
   "cell_type": "code",
   "execution_count": 16,
   "id": "54967adc-81b1-4a03-9a01-94440e468b57",
   "metadata": {},
   "outputs": [
    {
     "data": {
      "text/plain": [
       "[10, 20, 50, 60, 70, 30, 50, 70, 50, 70, 40, 80, 90, 60]"
      ]
     },
     "execution_count": 16,
     "metadata": {},
     "output_type": "execute_result"
    }
   ],
   "source": [
    "# 5. *Merge Lists:*\n",
    "#    - Create a program that takes two lists as input and merges them into a single list.\n",
    "\n",
    "list1 = [10,20,50,60,70,30,50,70]\n",
    "list2 = [50,70,40,80,90,60]\n",
    "merge = list1 + list2\n",
    "merge"
   ]
  },
  {
   "cell_type": "code",
   "execution_count": 18,
   "id": "2536ec76-09f7-4491-b3b4-07dce1b261e5",
   "metadata": {},
   "outputs": [
    {
     "data": {
      "text/plain": [
       "{20, 40, 44, 55}"
      ]
     },
     "execution_count": 18,
     "metadata": {},
     "output_type": "execute_result"
    }
   ],
   "source": [
    "# 6. *Common Elements:*\n",
    "#    - Write a program that finds and prints the common elements between two lists.\n",
    "\n",
    "list3 = [20,44,55,77,11,23,40,20]\n",
    "list4 = [20,40,44,22,55,66,77.11]\n",
    "comman = set(list3) & set(list4)\n",
    "comman"
   ]
  },
  {
   "cell_type": "code",
   "execution_count": 28,
   "id": "8014fcd3-723d-4835-84a3-2354fb94d8e0",
   "metadata": {},
   "outputs": [
    {
     "data": {
      "text/plain": [
       "{1: 'abc', 2: 'def', 3: 'ghi', 4: 'jkl', 5: 'mno'}"
      ]
     },
     "execution_count": 28,
     "metadata": {},
     "output_type": "execute_result"
    }
   ],
   "source": [
    "# 7. *Dictionary Creation:*\n",
    "#    - Implement a program that takes two lists, one for keys and one for values, and creates a dictionary.\n",
    "\n",
    "keys = [1,2,3,4,5]\n",
    "values = ['abc','def','ghi','jkl','mno']\n",
    "dic = {}\n",
    "for i in range(len(keys)):\n",
    "    l1 = keys[i]\n",
    "    l2 = values[i]\n",
    "    dic[l1] = l2\n",
    "dic"
   ]
  },
  {
   "cell_type": "code",
   "execution_count": 34,
   "id": "639a511c-fb8c-4606-aee2-122ed27d333a",
   "metadata": {},
   "outputs": [
    {
     "data": {
      "text/plain": [
       "{30, 40, 50, 60, 70}"
      ]
     },
     "execution_count": 34,
     "metadata": {},
     "output_type": "execute_result"
    }
   ],
   "source": [
    " # 8. *Remove Duplicates:*\n",
    " #   - Develop a program that removes duplicates from a given list and prints the list without duplicates.\n",
    "\n",
    "list7 = [30,30,40,50,40,70,60,70,40]\n",
    "set(list7)"
   ]
  }
 ],
 "metadata": {
  "kernelspec": {
   "display_name": "Python 3 (ipykernel)",
   "language": "python",
   "name": "python3"
  },
  "language_info": {
   "codemirror_mode": {
    "name": "ipython",
    "version": 3
   },
   "file_extension": ".py",
   "mimetype": "text/x-python",
   "name": "python",
   "nbconvert_exporter": "python",
   "pygments_lexer": "ipython3",
   "version": "3.12.1"
  }
 },
 "nbformat": 4,
 "nbformat_minor": 5
}
